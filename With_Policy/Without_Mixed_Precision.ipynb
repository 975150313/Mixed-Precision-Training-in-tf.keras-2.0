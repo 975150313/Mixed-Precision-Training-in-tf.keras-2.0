{
 "cells": [
  {
   "cell_type": "code",
   "execution_count": 1,
   "metadata": {},
   "outputs": [
    {
     "name": "stdout",
     "output_type": "stream",
     "text": [
      "Thu Nov 21 08:05:40 2019       \n",
      "+-----------------------------------------------------------------------------+\n",
      "| NVIDIA-SMI 410.104      Driver Version: 410.104      CUDA Version: 10.0     |\n",
      "|-------------------------------+----------------------+----------------------+\n",
      "| GPU  Name        Persistence-M| Bus-Id        Disp.A | Volatile Uncorr. ECC |\n",
      "| Fan  Temp  Perf  Pwr:Usage/Cap|         Memory-Usage | GPU-Util  Compute M. |\n",
      "|===============================+======================+======================|\n",
      "|   0  Tesla T4            Off  | 00000000:00:04.0 Off |                    0 |\n",
      "| N/A   75C    P0    32W /  70W |      0MiB / 15079MiB |      0%      Default |\n",
      "+-------------------------------+----------------------+----------------------+\n",
      "                                                                               \n",
      "+-----------------------------------------------------------------------------+\n",
      "| Processes:                                                       GPU Memory |\n",
      "|  GPU       PID   Type   Process name                             Usage      |\n",
      "|=============================================================================|\n",
      "|  No running processes found                                                 |\n",
      "+-----------------------------------------------------------------------------+\n"
     ]
    }
   ],
   "source": [
    "!nvidia-smi"
   ]
  },
  {
   "cell_type": "code",
   "execution_count": 2,
   "metadata": {},
   "outputs": [],
   "source": [
    "from tensorflow.keras.preprocessing.image import ImageDataGenerator\n",
    "from tensorflow.keras.layers import GlobalAveragePooling2D\n",
    "from tensorflow.keras.layers import Input\n",
    "from tensorflow.keras.layers import Dense\n",
    "from tensorflow.keras.models import Model\n",
    "from tensorflow.keras.applications import ResNet50\n",
    "from tensorflow.keras.optimizers import Adam\n",
    "from wandb.keras import WandbCallback\n",
    "import tensorflow as tf\n",
    "import numpy as np\n",
    "import wandb\n",
    "import time"
   ]
  },
  {
   "cell_type": "code",
   "execution_count": 3,
   "metadata": {},
   "outputs": [
    {
     "data": {
      "text/html": [
       "\n",
       "                Logging results to <a href=\"https://wandb.com\" target=\"_blank\">Weights & Biases</a> <a href=\"https://docs.wandb.com/integrations/jupyter.html\" target=\"_blank\">(Documentation)</a>.<br/>\n",
       "                Project page: <a href=\"https://app.wandb.ai/sayakpaul/mixed-precision-tf-keras\" target=\"_blank\">https://app.wandb.ai/sayakpaul/mixed-precision-tf-keras</a><br/>\n",
       "                Run page: <a href=\"https://app.wandb.ai/sayakpaul/mixed-precision-tf-keras/runs/mthp3618\" target=\"_blank\">https://app.wandb.ai/sayakpaul/mixed-precision-tf-keras/runs/mthp3618</a><br/>\n",
       "            "
      ],
      "text/plain": [
       "<IPython.core.display.HTML object>"
      ]
     },
     "metadata": {},
     "output_type": "display_data"
    },
    {
     "data": {
      "text/plain": [
       "W&B Run: https://app.wandb.ai/sayakpaul/mixed-precision-tf-keras/runs/mthp3618"
      ]
     },
     "execution_count": 3,
     "metadata": {},
     "output_type": "execute_result"
    }
   ],
   "source": [
    "wandb.init(project='mixed-precision-tf-keras', name='without-mp')"
   ]
  },
  {
   "cell_type": "code",
   "execution_count": 4,
   "metadata": {},
   "outputs": [
    {
     "name": "stdout",
     "output_type": "stream",
     "text": [
      "2.0.0\n",
      "True\n"
     ]
    }
   ],
   "source": [
    "print(tf.__version__)\n",
    "print(tf.test.is_gpu_available())"
   ]
  },
  {
   "cell_type": "code",
   "execution_count": 5,
   "metadata": {},
   "outputs": [],
   "source": [
    "DATA_PATH = '/home/jupyter/Mixed-Precision-Training-in-tf.keras-2.0/Data'\n",
    "\n",
    "X_train = np.load(DATA_PATH + '/X_train.npy', allow_pickle=True)\n",
    "y_train = np.load(DATA_PATH + '/y_train.npy', allow_pickle=True)"
   ]
  },
  {
   "cell_type": "code",
   "execution_count": 6,
   "metadata": {},
   "outputs": [
    {
     "name": "stdout",
     "output_type": "stream",
     "text": [
      "(6252, 224, 224, 3) (6252,)\n",
      "float64\n"
     ]
    }
   ],
   "source": [
    "print(X_train.shape, y_train.shape)\n",
    "print(X_train.dtype)"
   ]
  },
  {
   "cell_type": "code",
   "execution_count": 7,
   "metadata": {},
   "outputs": [],
   "source": [
    "train_dataset = tf.data.Dataset.from_tensor_slices((X_train, y_train))"
   ]
  },
  {
   "cell_type": "code",
   "execution_count": 8,
   "metadata": {},
   "outputs": [],
   "source": [
    "IMG_SIZE = (224, 224)\n",
    "\n",
    "@tf.function\n",
    "def format_train_example(image, label):\n",
    "    image = tf.cast(image, tf.float32)\n",
    "    image = (image/127.5) - 1\n",
    "    image = tf.image.resize(image, IMG_SIZE)\n",
    "    return image, tf.one_hot(label, len(np.unique(y_train)))"
   ]
  },
  {
   "cell_type": "code",
   "execution_count": 9,
   "metadata": {},
   "outputs": [],
   "source": [
    "BATCH_SIZE = 80\n",
    "AUTOTUNE = tf.data.experimental.AUTOTUNE\n",
    "PREFETCH_COUNT = 8\n",
    "\n",
    "train_dataset = train_dataset.shuffle(1024)\n",
    "train_dataset = train_dataset.repeat()\n",
    "train_dataset = train_dataset.map(format_train_example,\n",
    "                                  num_parallel_calls=AUTOTUNE)\n",
    "train_dataset = train_dataset.batch(BATCH_SIZE)\n",
    "train_dataset = train_dataset.prefetch(PREFETCH_COUNT)"
   ]
  },
  {
   "cell_type": "code",
   "execution_count": 10,
   "metadata": {},
   "outputs": [],
   "source": [
    "def create_model(img_size=(224,224), num_class=5, train_base=True):\n",
    "    # Accept float16 image inputs\n",
    "    input_layer = Input(shape=(img_size[0],img_size[1],3))\n",
    "    base = ResNet50(input_tensor=input_layer,\n",
    "                    include_top=False,\n",
    "                    weights=\"imagenet\")\n",
    "    base.trainable = train_base\n",
    "    x = base.output\n",
    "    x = GlobalAveragePooling2D()(x)\n",
    "    # softmax only accepts float32 - need to manually cast (likely a bug)\n",
    "    preds = Dense(num_class, activation=\"softmax\")(x)\n",
    "    return Model(inputs=input_layer, outputs=preds)"
   ]
  },
  {
   "cell_type": "code",
   "execution_count": 11,
   "metadata": {},
   "outputs": [],
   "source": [
    "model = create_model()\n",
    "opt = Adam()\n",
    "model.compile(loss=\"categorical_crossentropy\",\n",
    "              optimizer=opt,\n",
    "              metrics=[\"accuracy\"])"
   ]
  },
  {
   "cell_type": "code",
   "execution_count": 12,
   "metadata": {},
   "outputs": [
    {
     "name": "stdout",
     "output_type": "stream",
     "text": [
      "Train for 78 steps\n",
      "Epoch 1/5\n",
      "78/78 [==============================] - 84s 1s/step - loss: 0.6833 - accuracy: 0.5853\n",
      "Epoch 2/5\n",
      "78/78 [==============================] - 60s 776ms/step - loss: 0.8061 - accuracy: 0.5258\n",
      "Epoch 3/5\n",
      "78/78 [==============================] - 60s 772ms/step - loss: 0.9620 - accuracy: 0.4413\n",
      "Epoch 4/5\n",
      "78/78 [==============================] - 60s 775ms/step - loss: 0.9894 - accuracy: 0.4436\n",
      "Epoch 5/5\n",
      "78/78 [==============================] - 60s 775ms/step - loss: 1.0601 - accuracy: 0.3894\n",
      "It took 329.9550199508667 seconds\n"
     ]
    }
   ],
   "source": [
    "# Kickstart model training\n",
    "start = time.time()\n",
    "model.fit(train_dataset, \n",
    "         steps_per_epoch=X_train.shape[0]//BATCH_SIZE,\n",
    "         epochs=5,\n",
    "         callbacks=[WandbCallback()])\n",
    "print(\"It took {} seconds\".format(time.time() - start))"
   ]
  }
 ],
 "metadata": {
  "kernelspec": {
   "display_name": "Python 3",
   "language": "python",
   "name": "python3"
  },
  "language_info": {
   "codemirror_mode": {
    "name": "ipython",
    "version": 3
   },
   "file_extension": ".py",
   "mimetype": "text/x-python",
   "name": "python",
   "nbconvert_exporter": "python",
   "pygments_lexer": "ipython3",
   "version": "3.5.3"
  }
 },
 "nbformat": 4,
 "nbformat_minor": 4
}
