{
 "cells": [
  {
   "cell_type": "code",
   "execution_count": 1,
   "metadata": {},
   "outputs": [
    {
     "name": "stdout",
     "output_type": "stream",
     "text": [
      "Thu Dec  5 10:41:25 2019       \n",
      "+-----------------------------------------------------------------------------+\n",
      "| NVIDIA-SMI 410.104      Driver Version: 410.104      CUDA Version: 10.0     |\n",
      "|-------------------------------+----------------------+----------------------+\n",
      "| GPU  Name        Persistence-M| Bus-Id        Disp.A | Volatile Uncorr. ECC |\n",
      "| Fan  Temp  Perf  Pwr:Usage/Cap|         Memory-Usage | GPU-Util  Compute M. |\n",
      "|===============================+======================+======================|\n",
      "|   0  Tesla T4            Off  | 00000000:00:04.0 Off |                    0 |\n",
      "| N/A   68C    P0    32W /  70W |      0MiB / 15079MiB |      0%      Default |\n",
      "+-------------------------------+----------------------+----------------------+\n",
      "                                                                               \n",
      "+-----------------------------------------------------------------------------+\n",
      "| Processes:                                                       GPU Memory |\n",
      "|  GPU       PID   Type   Process name                             Usage      |\n",
      "|=============================================================================|\n",
      "|  No running processes found                                                 |\n",
      "+-----------------------------------------------------------------------------+\n"
     ]
    }
   ],
   "source": [
    "!nvidia-smi"
   ]
  },
  {
   "cell_type": "code",
   "execution_count": 2,
   "metadata": {},
   "outputs": [],
   "source": [
    "from tensorflow.keras import backend as K\n",
    "K.clear_session()"
   ]
  },
  {
   "cell_type": "code",
   "execution_count": 3,
   "metadata": {},
   "outputs": [],
   "source": [
    "from tensorflow.keras.preprocessing.image import ImageDataGenerator\n",
    "from tensorflow.keras.layers import GlobalAveragePooling2D\n",
    "from tensorflow.keras.layers import Input\n",
    "from tensorflow.keras.layers import Dense\n",
    "from tensorflow.keras.models import Model\n",
    "from tensorflow.keras.applications import ResNet50\n",
    "from tensorflow.keras.optimizers import Adam\n",
    "from wandb.keras import WandbCallback\n",
    "import tensorflow as tf\n",
    "import numpy as np\n",
    "import wandb\n",
    "import time"
   ]
  },
  {
   "cell_type": "code",
   "execution_count": 4,
   "metadata": {},
   "outputs": [
    {
     "data": {
      "text/html": [
       "\n",
       "                Logging results to <a href=\"https://wandb.com\" target=\"_blank\">Weights & Biases</a> <a href=\"https://docs.wandb.com/integrations/jupyter.html\" target=\"_blank\">(Documentation)</a>.<br/>\n",
       "                Project page: <a href=\"https://app.wandb.ai/sayakpaul/mixed-precision-tf-keras\" target=\"_blank\">https://app.wandb.ai/sayakpaul/mixed-precision-tf-keras</a><br/>\n",
       "                Run page: <a href=\"https://app.wandb.ai/sayakpaul/mixed-precision-tf-keras/runs/xnlbmofi\" target=\"_blank\">https://app.wandb.ai/sayakpaul/mixed-precision-tf-keras/runs/xnlbmofi</a><br/>\n",
       "            "
      ],
      "text/plain": [
       "<IPython.core.display.HTML object>"
      ]
     },
     "metadata": {},
     "output_type": "display_data"
    },
    {
     "data": {
      "text/plain": [
       "W&B Run: https://app.wandb.ai/sayakpaul/mixed-precision-tf-keras/runs/xnlbmofi"
      ]
     },
     "execution_count": 4,
     "metadata": {},
     "output_type": "execute_result"
    }
   ],
   "source": [
    "wandb.init(project='mixed-precision-tf-keras', name='with-mp_loss_scale-192')"
   ]
  },
  {
   "cell_type": "code",
   "execution_count": 5,
   "metadata": {},
   "outputs": [],
   "source": [
    "# Enable XLA\n",
    "tf.config.optimizer.set_jit(True)\n",
    "\n",
    "# Enable AMP\n",
    "tf.config.optimizer.set_experimental_options({\"auto_mixed_precision\": True})"
   ]
  },
  {
   "cell_type": "code",
   "execution_count": 6,
   "metadata": {},
   "outputs": [],
   "source": [
    "DATA_PATH = '/home/jupyter/Mixed-Precision-Training-in-tf.keras-2.0/Data'\n",
    "\n",
    "X_train = np.load(DATA_PATH + '/X_train.npy', allow_pickle=True)\n",
    "y_train = np.load(DATA_PATH + '/y_train.npy', allow_pickle=True)"
   ]
  },
  {
   "cell_type": "code",
   "execution_count": 7,
   "metadata": {},
   "outputs": [],
   "source": [
    "DATA_PATH = '/home/jupyter/Mixed-Precision-Training-in-tf.keras-2.0/Data'\n",
    "\n",
    "X_train = np.load(DATA_PATH + '/X_train.npy', allow_pickle=True)\n",
    "y_train = np.load(DATA_PATH + '/y_train.npy', allow_pickle=True)"
   ]
  },
  {
   "cell_type": "code",
   "execution_count": 8,
   "metadata": {},
   "outputs": [
    {
     "name": "stdout",
     "output_type": "stream",
     "text": [
      "(6252, 224, 224, 3) (6252,)\n",
      "float64\n"
     ]
    }
   ],
   "source": [
    "print(X_train.shape, y_train.shape)\n",
    "print(X_train.dtype)"
   ]
  },
  {
   "cell_type": "code",
   "execution_count": 9,
   "metadata": {},
   "outputs": [],
   "source": [
    "train_dataset = tf.data.Dataset.from_tensor_slices((X_train, y_train))"
   ]
  },
  {
   "cell_type": "code",
   "execution_count": 10,
   "metadata": {},
   "outputs": [],
   "source": [
    "IMG_SIZE = (192, 192)\n",
    "\n",
    "@tf.function\n",
    "def format_train_example(image, label):\n",
    "    image = tf.cast(image, tf.float32)\n",
    "    image = (image/127.5) - 1\n",
    "    image = tf.image.resize(image, IMG_SIZE)\n",
    "    return image, tf.one_hot(label, len(np.unique(y_train)))"
   ]
  },
  {
   "cell_type": "code",
   "execution_count": 11,
   "metadata": {},
   "outputs": [],
   "source": [
    "BATCH_SIZE = 80\n",
    "AUTOTUNE = tf.data.experimental.AUTOTUNE\n",
    "PREFETCH_COUNT = 8\n",
    "\n",
    "train_dataset = train_dataset.shuffle(1024)\n",
    "train_dataset = train_dataset.repeat()\n",
    "train_dataset = train_dataset.map(format_train_example,\n",
    "                                  num_parallel_calls=AUTOTUNE)\n",
    "train_dataset = train_dataset.batch(BATCH_SIZE)\n",
    "train_dataset = train_dataset.prefetch(PREFETCH_COUNT)"
   ]
  },
  {
   "cell_type": "code",
   "execution_count": 12,
   "metadata": {},
   "outputs": [],
   "source": [
    "def create_model(img_size=(192,192), num_class=5, train_base=True):\n",
    "    # Accept float16 image inputs\n",
    "    input_layer = Input(shape=(img_size[0],img_size[1],3))\n",
    "    base = ResNet50(input_tensor=input_layer,\n",
    "                    include_top=False,\n",
    "                    weights=\"imagenet\")\n",
    "    base.trainable = train_base\n",
    "    x = base.output\n",
    "    x = GlobalAveragePooling2D()(x)\n",
    "    preds = Dense(num_class, activation=\"softmax\")(x)\n",
    "    return Model(inputs=input_layer, outputs=preds)"
   ]
  },
  {
   "cell_type": "code",
   "execution_count": 13,
   "metadata": {},
   "outputs": [],
   "source": [
    "model = create_model()\n",
    "opt = Adam(learning_rate=1e-4)\n",
    "opt = tf.keras.mixed_precision.experimental.LossScaleOptimizer(opt,  \n",
    "                                                       \"dynamic\")\n",
    "model.compile(loss=\"categorical_crossentropy\",\n",
    "              optimizer=opt,\n",
    "              metrics=[\"accuracy\"])"
   ]
  },
  {
   "cell_type": "code",
   "execution_count": 14,
   "metadata": {},
   "outputs": [
    {
     "name": "stderr",
     "output_type": "stream",
     "text": [
      "Error generating diff: Command '['git', 'diff', '--submodule=diff', 'HEAD']' timed out after 5 seconds\n"
     ]
    },
    {
     "name": "stdout",
     "output_type": "stream",
     "text": [
      "Train for 78 steps\n",
      "Epoch 1/5\n",
      "78/78 [==============================] - 71s 915ms/step - loss: 0.3720 - accuracy: 0.7369\n",
      "Epoch 2/5\n",
      "78/78 [==============================] - 14s 182ms/step - loss: 0.2528 - accuracy: 0.7681\n",
      "Epoch 3/5\n",
      "78/78 [==============================] - 14s 184ms/step - loss: 0.1741 - accuracy: 0.7756\n",
      "Epoch 4/5\n",
      "78/78 [==============================] - 15s 186ms/step - loss: 0.1615 - accuracy: 0.7737\n",
      "Epoch 5/5\n",
      "78/78 [==============================] - 15s 187ms/step - loss: 0.1355 - accuracy: 0.7819\n"
     ]
    }
   ],
   "source": [
    "# Kickstart model training\n",
    "start = time.time()\n",
    "model.fit(train_dataset, \n",
    "         steps_per_epoch=X_train.shape[0]//BATCH_SIZE,\n",
    "         epochs=5,\n",
    "         callbacks=[WandbCallback()])\n",
    "training_time = time.time() - start\n",
    "wandb.log({\"training_time\":training_time})"
   ]
  }
 ],
 "metadata": {
  "kernelspec": {
   "display_name": "Python 3",
   "language": "python",
   "name": "python3"
  },
  "language_info": {
   "codemirror_mode": {
    "name": "ipython",
    "version": 3
   },
   "file_extension": ".py",
   "mimetype": "text/x-python",
   "name": "python",
   "nbconvert_exporter": "python",
   "pygments_lexer": "ipython3",
   "version": "3.5.3"
  }
 },
 "nbformat": 4,
 "nbformat_minor": 4
}
